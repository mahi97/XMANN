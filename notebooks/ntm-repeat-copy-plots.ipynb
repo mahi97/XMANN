{
 "cells": [
  {
   "cell_type": "markdown",
   "source": [
    "# Repeat Copy Task Plots"
   ],
   "metadata": {
    "collapsed": false
   }
  },
  {
   "cell_type": "code",
   "execution_count": null,
   "outputs": [],
   "source": [
    "import matplotlib.pyplot as plt\n",
    "import numpy as np\n",
    "import pandas as pd\n",
    "\n",
    "from glob import glob\n",
    "import json\n",
    "import os\n",
    "import sys\n",
    "sys.path.append(os.path.abspath(os.getcwd() + \"./../\"))\n",
    "\n",
    "%matplotlib inline"
   ],
   "metadata": {
    "collapsed": false,
    "pycharm": {
     "name": "#%%\n"
    }
   }
  },
  {
   "cell_type": "markdown",
   "source": [
    "## Load training history\n",
    "\n",
    "To generate the models and training history used in this notebook, run the following commands:\n",
    "\n",
    "```\n",
    "./main.py --seed 1    --task repeat-copy --checkpoint-interval 5000 --checkpoint-path ./checkpoint/ntm-recopy\n",
    "./main.py --seed 10   --task repeat-copy --checkpoint-interval 5000 --checkpoint-path ./checkpoint/ntm-recopy\n",
    "./main.py --seed 100  --task repeat-copy --checkpoint-interval 5000 --checkpoint-path ./checkpoint/ntm-recopy\n",
    "./main.py --seed 1000 --task repeat-copy --checkpoint-interval 5000 --checkpoint-path ./checkpoint/ntm-recopy\n",
    "```"
   ],
   "metadata": {
    "collapsed": false
   }
  },
  {
   "cell_type": "code",
   "execution_count": null,
   "outputs": [],
   "source": [
    "batch_num = 200000\n",
    "interval = 5000\n",
    "path = '../checkpoint/'\n",
    "files = glob(path + \"recopy-task-*-{}.json\".format(batch_num))\n",
    "files"
   ],
   "metadata": {
    "collapsed": false,
    "pycharm": {
     "name": "#%%\n"
    }
   }
  },
  {
   "cell_type": "code",
   "execution_count": null,
   "outputs": [],
   "source": [
    "# Read the metrics from the .json files\n",
    "history = [json.loads(open(fname, \"rt\").read()) for fname in files]\n",
    "training = np.array([(x['cost'], x['loss'], x['seq_lengths']) for x in history])\n",
    "print(\"Training history (seed x metric x sequence) =\", training.shape)"
   ],
   "metadata": {
    "collapsed": false,
    "pycharm": {
     "name": "#%%\n"
    }
   }
  },
  {
   "cell_type": "code",
   "execution_count": null,
   "outputs": [],
   "source": [
    "# Average every dv values across each (seed, metric)\n",
    "dv = 2000\n",
    "training = training.reshape(len(files), 3, -1, dv).mean(axis=3)\n",
    "print(training.shape)"
   ],
   "metadata": {
    "collapsed": false,
    "pycharm": {
     "name": "#%%\n"
    }
   }
  },
  {
   "cell_type": "code",
   "execution_count": null,
   "outputs": [],
   "source": [
    "# Average the seeds\n",
    "training_mean = training.mean(axis=0)\n",
    "training_std = training.std(axis=0)\n",
    "print(training_mean.shape)\n",
    "print(training_std.shape)"
   ],
   "metadata": {
    "collapsed": false,
    "pycharm": {
     "name": "#%%\n"
    }
   }
  },
  {
   "cell_type": "code",
   "execution_count": null,
   "outputs": [],
   "source": [
    "fig = plt.figure(figsize=(14, 5))\n",
    "\n",
    "# X axis is normalized to thousands\n",
    "x = np.arange(dv / 1000, (batch_num / 1000) + (dv / 1000), dv / 1000)\n",
    "\n",
    "# Plot the cost\n",
    "# plt.plot(x, training_mean[0], 'o-', linewidth=2, label='Cost')\n",
    "plt.errorbar(x, training_mean[0], yerr=training_std[0], fmt='o-', elinewidth=2, linewidth=2, label='Cost')\n",
    "plt.grid()\n",
    "plt.yticks(np.arange(0, training_mean[0][0]+10, 10))\n",
    "plt.ylabel('Cost per sequence (bits)')\n",
    "plt.xlabel('Sequence (thousands)')\n",
    "plt.title('Training Convergence', fontsize=16)\n",
    "\n",
    "ax = plt.axes([.57, .55, .25, .25], facecolor=(0.97, 0.97, 0.97))\n",
    "plt.title(\"BCELoss\")\n",
    "plt.plot(x, training_mean[1], 'r-', label='BCE Loss')\n",
    "plt.yticks(np.arange(0, training_mean[1][0]+0.2, 0.2))\n",
    "plt.grid()\n",
    "\n",
    "plt.show()"
   ],
   "metadata": {
    "collapsed": false,
    "pycharm": {
     "name": "#%%\n"
    }
   }
  },
  {
   "cell_type": "code",
   "execution_count": null,
   "outputs": [],
   "source": [
    "loss = history[0]['loss']\n",
    "cost = history[0]['cost']\n",
    "seq_lengths = history[0]['seq_lengths']\n",
    "\n",
    "unique_sls = set(seq_lengths)\n",
    "all_metric = list(zip(range(1, batch_num+1), seq_lengths, loss, cost))\n",
    "\n",
    "fig = plt.figure(figsize=(12, 5))\n",
    "plt.ylabel('Cost per sequence (bits)')\n",
    "plt.xlabel('Iteration (thousands)')\n",
    "plt.title('Training Convergence (Per Sequence Length)', fontsize=16)\n",
    "\n",
    "for sl in unique_sls:\n",
    "    sl_metrics = [i for i in all_metric if i[1] == sl]\n",
    "\n",
    "    x = [i[0] for i in sl_metrics]\n",
    "    y = [i[3] for i in sl_metrics]\n",
    "    \n",
    "    num_pts = len(x) // 50\n",
    "    total_pts = num_pts * 50\n",
    "    \n",
    "    x_mean = [i.mean()/1000 for i in np.split(np.array(x)[:total_pts], num_pts)]\n",
    "    y_mean = [i.mean() for i in np.split(np.array(y)[:total_pts], num_pts)]\n",
    "    \n",
    "    plt.plot(x_mean, y_mean, label='Seq-{}'.format(sl))\n",
    "\n",
    "plt.yticks(np.arange(0, 80, 5))\n",
    "plt.legend(loc=0)\n",
    "plt.show()"
   ],
   "metadata": {
    "collapsed": false,
    "pycharm": {
     "name": "#%%\n"
    }
   }
  },
  {
   "cell_type": "markdown",
   "source": [
    "# Evaluate"
   ],
   "metadata": {
    "collapsed": false
   }
  },
  {
   "cell_type": "code",
   "execution_count": null,
   "outputs": [],
   "source": [
    "import torch\n",
    "from IPython.display import Image as IPythonImage\n",
    "from PIL import Image, ImageDraw, ImageFont\n",
    "import io\n",
    "from tasks.repeatcopy_task import data_loader\n",
    "from train import evaluate"
   ],
   "metadata": {
    "collapsed": false,
    "pycharm": {
     "name": "#%%\n"
    }
   }
  },
  {
   "cell_type": "code",
   "execution_count": null,
   "outputs": [],
   "source": [
    "from tasks.repeatcopy_task import RepeatCopyTaskModel\n",
    "model = RepeatCopyTaskModel()"
   ],
   "metadata": {
    "collapsed": false,
    "pycharm": {
     "name": "#%%\n"
    }
   }
  },
  {
   "cell_type": "code",
   "execution_count": null,
   "outputs": [],
   "source": [
    "seed = 1\n",
    "model.net.load_state_dict(torch.load(path + \"recopy-task-{}-batch-{}.model\".format(seed, batch_num)))"
   ],
   "metadata": {
    "collapsed": false,
    "pycharm": {
     "name": "#%%\n"
    }
   }
  },
  {
   "cell_type": "code",
   "execution_count": null,
   "outputs": [],
   "source": [
    "def cmap(value):\n",
    "    pixval = value * 255\n",
    "    low = 64\n",
    "    high = 240\n",
    "    factor = (255 - low - (255-high)) / 255\n",
    "    return int(low + pixval * factor)\n",
    "\n",
    "def draw_sequence(y, u=12):\n",
    "    seq_len = y.size(0)\n",
    "    seq_width = y.size(2)\n",
    "    inset = u // 8\n",
    "    pad = u // 2\n",
    "    width = seq_len * u + 2 * pad\n",
    "    height = seq_width * u + 2 * pad\n",
    "    im = Image.new('L', (width, height))\n",
    "    draw = ImageDraw.ImageDraw(im)\n",
    "    draw.rectangle([0, 0, width, height], fill=250)\n",
    "    for i in range(seq_len):\n",
    "        for j in range(seq_width):\n",
    "            val = 1 - y[i, 0, j].data.item()\n",
    "            draw.rectangle([pad + i*u + inset,\n",
    "                            pad + j*u + inset,\n",
    "                            pad + (i+1)*u - inset,\n",
    "                            pad + (j+1)*u - inset], fill=cmap(val))\n",
    "\n",
    "    return im\n",
    "\n",
    "def im_to_png_bytes(im):\n",
    "    png = io.BytesIO()\n",
    "    im.save(png, 'PNG')\n",
    "    return bytes(png.getbuffer())\n",
    "\n",
    "def im_vconcat(im1, im2, pad=8):\n",
    "    assert im1.size == im2.size\n",
    "    w, h = im1.size\n",
    "\n",
    "    width = w\n",
    "    height = h * 2 + pad\n",
    "\n",
    "    im = Image.new('L', (width, height), color=255)\n",
    "    im.paste(im1, (0, 0))\n",
    "    im.paste(im2, (0, h+pad))\n",
    "    return im"
   ],
   "metadata": {
    "collapsed": false,
    "pycharm": {
     "name": "#%%\n"
    }
   }
  },
  {
   "cell_type": "code",
   "execution_count": null,
   "outputs": [],
   "source": [
    "def make_eval_plot(y, y_out, u=12):\n",
    "    im_y = draw_sequence(y, u)\n",
    "    im_y_out = draw_sequence(y_out, u)\n",
    "    im = im_vconcat(im_y, im_y_out, u//2)\n",
    "    \n",
    "    w, h = im.size\n",
    "    pad_w = u * 7\n",
    "    im2 = Image.new('L', (w+pad_w, h), color=255)\n",
    "    im2.paste(im, (pad_w, 0))\n",
    "    \n",
    "    # Add text\n",
    "    font = ImageFont.truetype(\"./fonts/PT_Sans-Web-Regular.ttf\", 13)\n",
    "    draw = ImageDraw.ImageDraw(im2)\n",
    "    draw.text((u,4*u), \"Targets\", font=font)\n",
    "    draw.text((u,13*u), \"Outputs\", font=font)\n",
    "    \n",
    "    return im2"
   ],
   "metadata": {
    "collapsed": false,
    "pycharm": {
     "name": "#%%\n"
    }
   }
  },
  {
   "cell_type": "code",
   "execution_count": null,
   "outputs": [],
   "source": [
    "def visualize(model, seq_len, max_reps):\n",
    "    seq_len = 8\n",
    "    _, x, y = next(iter(data_loader(1, 1, 8, seq_len, seq_len, 1, max_reps)))\n",
    "    result = evaluate(model.net, model.criterion, x, y)\n",
    "    y_out = result['y_out']\n",
    "    cost = result['cost']\n",
    "    \n",
    "    inp_im = draw_sequence(x, u=10)\n",
    "    eval_im = make_eval_plot(y, y_out, u=10)\n",
    "    return inp_im, eval_im, cost"
   ],
   "metadata": {
    "collapsed": false,
    "pycharm": {
     "name": "#%%\n"
    }
   }
  },
  {
   "cell_type": "code",
   "execution_count": null,
   "outputs": [],
   "source": [
    "inp_im, eval_im, cost = visualize(model, 8, 10)\n",
    "print(\"Cost:\", cost)"
   ],
   "metadata": {
    "collapsed": false,
    "pycharm": {
     "name": "#%%\n"
    }
   }
  },
  {
   "cell_type": "code",
   "execution_count": null,
   "outputs": [],
   "source": [
    "IPythonImage(im_to_png_bytes(inp_im))"
   ],
   "metadata": {
    "collapsed": false,
    "pycharm": {
     "name": "#%%\n"
    }
   }
  },
  {
   "cell_type": "code",
   "execution_count": null,
   "outputs": [],
   "source": [
    "IPythonImage(im_to_png_bytes(eval_im))"
   ],
   "metadata": {
    "collapsed": false,
    "pycharm": {
     "name": "#%%\n"
    }
   }
  },
  {
   "cell_type": "markdown",
   "source": [
    "## Create an animated GIF\n",
    "\n",
    "Lets see how the prediction looks like in each checkpoint that we saved. "
   ],
   "metadata": {
    "collapsed": false
   }
  },
  {
   "cell_type": "code",
   "execution_count": 39,
   "outputs": [],
   "source": [
    "seq_len = 10\n",
    "_, x, y = next(iter(data_loader(1, 1, 8, seq_len, seq_len, 1, 10)))\n",
    "\n",
    "frames = []\n",
    "font = ImageFont.truetype(\"./fonts/PT_Sans-Web-Regular.ttf\", 13)\n",
    "for batch_num in range(interval, batch_num + interval, interval):\n",
    "    model = RepeatCopyTaskModel()\n",
    "    model.net.load_state_dict(torch.load(path + \"recopy-task-{}-batch-{}.model\".format(seed, batch_num)))\n",
    "    result = evaluate(model.net, model.criterion, x, y)\n",
    "    y_out = result['y_out']\n",
    "    frame = make_eval_plot(y, y_out, u=10)\n",
    "    \n",
    "    w, h = frame.size\n",
    "    frame_seq = Image.new('L', (w, h+40), color=255)\n",
    "    frame_seq.paste(frame, (0, 40))\n",
    "    \n",
    "    draw = ImageDraw.ImageDraw(frame_seq)\n",
    "    draw.text((10, 10), \"Sequence Num: {} (Cost: {})\".format(batch_num, result['cost']), font=font)\n",
    "    \n",
    "    frames += [frame_seq]"
   ],
   "metadata": {
    "collapsed": false,
    "pycharm": {
     "name": "#%%\n",
     "is_executing": false
    }
   }
  },
  {
   "cell_type": "code",
   "execution_count": 40,
   "outputs": [],
   "source": [
    "im = frames[0]\n",
    "im.save(\"./images/ntm-repeat-copy-train.gif\", save_all=True, append_images=frames[1:], loop=0, duration=750)\n",
    "\n",
    "im = frames[0]\n",
    "im.save(\"./images/ntm-repeat-copy-train-fast.gif\", save_all=True, append_images=frames[1:], loop=0, duration=100)"
   ],
   "metadata": {
    "collapsed": false,
    "pycharm": {
     "name": "#%%\n",
     "is_executing": false
    }
   }
  },
  {
   "cell_type": "markdown",
   "source": [
    "![SegmentLocal](./images/ntm-repeat-copy-train.gif \"ntm-copy\")\n",
    "\n",
    "![SegmentLocal](./images/ntm-repeat-copy-train-fast.gif \"ntm-copy fast\")\n",
    "\n"
   ],
   "metadata": {
    "collapsed": false,
    "pycharm": {
     "name": "#%% md\n"
    }
   }
  }
 ],
 "metadata": {
  "kernelspec": {
   "display_name": "Python 3",
   "language": "python",
   "name": "python3"
  },
  "language_info": {
   "codemirror_mode": {
    "name": "ipython",
    "version": 3
   },
   "file_extension": ".py",
   "mimetype": "text/x-python",
   "name": "python",
   "nbconvert_exporter": "python",
   "pygments_lexer": "ipython3",
   "version": "3.5.3"
  },
  "pycharm": {
   "stem_cell": {
    "cell_type": "raw",
    "source": [],
    "metadata": {
     "collapsed": false
    }
   }
  }
 },
 "nbformat": 4,
 "nbformat_minor": 2
}